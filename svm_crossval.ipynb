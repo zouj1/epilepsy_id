{
 "cells": [
  {
   "cell_type": "markdown",
   "metadata": {},
   "source": [
    "## Import libraries"
   ]
  },
  {
   "cell_type": "code",
   "execution_count": 1,
   "metadata": {},
   "outputs": [],
   "source": [
    "from helper import get_paths, get_data, _embed\n",
    "\n",
    "import numpy as np\n",
    "import pandas as pd\n",
    "import random\n",
    "import os\n",
    "\n",
    "import seaborn as sns\n",
    "import matplotlib.pyplot as plt\n",
    "\n",
    "from scipy import signal\n",
    "from scipy.integrate import simps\n",
    "from scipy.stats import entropy\n",
    "from scipy.signal import periodogram, welch\n",
    "from sklearn.metrics import auc, plot_roc_curve\n",
    "from sklearn.model_selection import StratifiedKFold\n",
    "\n",
    "from sklearn import metrics\n",
    "from sklearn import svm\n",
    "\n",
    "random_state = np.random.RandomState(0)"
   ]
  },
  {
   "cell_type": "markdown",
   "metadata": {},
   "source": [
    "## Features\n",
    "* Shannon Entropy\n",
    "* Spectral Entropy\n",
    "* Permutation Entropy\n",
    "* Average power in Delta Band\n",
    "* Average power in Theta Band"
   ]
  },
  {
   "cell_type": "code",
   "execution_count": 5,
   "metadata": {},
   "outputs": [],
   "source": [
    "def shannon_entropy(x):\n",
    "    counts = x.value_counts()\n",
    "    she = entropy(counts, axis =0)\n",
    "    return she\n",
    "\n",
    "def spectral_entropy(x, sf, method='fft', nperseg=None, normalize=False):\n",
    "    x = np.array(x)\n",
    "    \n",
    "    if method == 'fft':\n",
    "        _, psd = periodogram(x, sf)\n",
    "    elif method == 'welch':\n",
    "        _, psd = welch(x, sf, nperseg=nperseg)\n",
    "        \n",
    "    psd_norm = np.divide(psd, psd.sum())\n",
    "    se = -np.multiply(psd_norm, np.log2(psd_norm)).sum()\n",
    "    \n",
    "    return se\n",
    "\n",
    "def perm_entropy(x, order=3, delay=1, normalize=False):\n",
    "    x = np.array(x)\n",
    "    ran_order = range(order)\n",
    "    hashmult = np.power(order, ran_order)\n",
    "    \n",
    "    # Embed x and sort the order of permutations\n",
    "    sorted_idx = _embed(x, order=order, delay=delay).argsort(kind='quicksort')\n",
    "    \n",
    "    # Associate unique integer to each permutations\n",
    "    hashval = (np.multiply(sorted_idx, hashmult)).sum(1)\n",
    "    \n",
    "    # Return the counts\n",
    "    _, c = np.unique(hashval, return_counts=True)\n",
    "    \n",
    "    # Use np.true_divide for Python 2 compatibility\n",
    "    p = np.true_divide(c, c.sum())\n",
    "    pe = -np.multiply(p, np.log2(p)).sum()\n",
    "\n",
    "    return pe\n",
    "\n",
    "def band_power(x, low, high, sf = 173.61):\n",
    "    win = 4 * sf\n",
    "    freqs, psd = signal.welch(x, sf, nperseg=win)\n",
    "\n",
    "    # Find intersecting values in frequency vector\n",
    "    idx_delta = np.logical_and(freqs >= low, freqs <= high)\n",
    "\n",
    "    # Frequency resolution\n",
    "    freq_res = freqs[1] - freqs[0]  \n",
    "\n",
    "    # Compute the absolute power by approximating the area under the curve\n",
    "    power_val = simps(psd[idx_delta], dx=freq_res)\n",
    "    return power_val"
   ]
  },
  {
   "cell_type": "code",
   "execution_count": 6,
   "metadata": {},
   "outputs": [],
   "source": [
    "def get_features(paths):\n",
    "    features = []\n",
    "    for file in paths:\n",
    "        with open(file) as f:\n",
    "            data_oi = pd.Series([int(val) for val in f.read().splitlines()])\n",
    "            \n",
    "            she = shannon_entropy(data_oi)\n",
    "            se = spectral_entropy(data_oi, sf= 173.61)\n",
    "            perme = perm_entropy(data_oi)\n",
    "\n",
    "            delta_power_val = band_power(data_oi, low = 0.5, high = 4)\n",
    "            theta_power_val = band_power(data_oi, low = 4.01, high = 8)\n",
    "\n",
    "            features.append([she, se, perme, delta_power_val, theta_power_val])\n",
    "            \n",
    "    return np.array(features)"
   ]
  },
  {
   "cell_type": "markdown",
   "metadata": {},
   "source": [
    "## Load Data\n",
    "**SET A** (Z.zip)--> healthy, eyes open \n",
    "\n",
    "**SET B** (O.zip)--> healthy, eyes closed\n",
    "\n",
    "**SET C** (N.zip)--> epileptic in the epileptogenic zone, during non-seizure time\n",
    "\n",
    "**SET D** (F.zip)--> epileptic in hippocampus, during non-seizure time\n",
    "\n",
    "**SET E** (S.zip)--> epileptic, only contained seizure activity"
   ]
  },
  {
   "cell_type": "code",
   "execution_count": 7,
   "metadata": {},
   "outputs": [],
   "source": [
    "tempA = get_paths(\"data/Z/\")\n",
    "tempB = get_paths(\"data/O/\")\n",
    "tempC = get_paths(\"data/N/\")\n",
    "tempD = get_paths(\"data/F/\")\n",
    "tempE = get_paths(\"data/S/\")"
   ]
  },
  {
   "cell_type": "code",
   "execution_count": 8,
   "metadata": {},
   "outputs": [],
   "source": [
    "all_paths = tempA + tempB + tempC + tempD + tempE\n",
    "X = get_features(all_paths)\n",
    "y = np.array([0]*200+[1]*300)"
   ]
  },
  {
   "cell_type": "markdown",
   "metadata": {},
   "source": [
    "## Plot Results"
   ]
  },
  {
   "cell_type": "code",
   "execution_count": null,
   "metadata": {},
   "outputs": [],
   "source": [
    "cv = StratifiedKFold(n_splits=6)\n",
    "classifier = svm.SVC(kernel='linear', probability=True,\n",
    "                     random_state=random_state)\n",
    "\n",
    "tprs = []\n",
    "aucs = []\n",
    "mean_fpr = np.linspace(0, 1, 100)\n",
    "\n",
    "fig, ax = plt.subplots(figsize=(8,8))\n",
    "for i, (train, test) in enumerate(cv.split(X, y)):\n",
    "    classifier.fit(X[train], y[train])\n",
    "    viz = plot_roc_curve(classifier, X[test], y[test],\n",
    "                         name='ROC fold {}'.format(i),\n",
    "                         alpha=0.3, lw=1, ax=ax)\n",
    "    interp_tpr = np.interp(mean_fpr, viz.fpr, viz.tpr)\n",
    "    interp_tpr[0] = 0.0\n",
    "    tprs.append(interp_tpr)\n",
    "    aucs.append(viz.roc_auc)\n",
    "\n",
    "ax.plot([0, 1], [0, 1], linestyle='--', lw=2, color='r', alpha=.8)\n",
    "\n",
    "mean_tpr = np.mean(tprs, axis=0)\n",
    "mean_tpr[-1] = 1.0\n",
    "mean_auc = auc(mean_fpr, mean_tpr)\n",
    "std_auc = np.std(aucs)\n",
    "ax.plot(mean_fpr, mean_tpr, color='b',\n",
    "        label=r'Mean ROC (AUC = %0.2f $\\pm$ %0.2f)' % (mean_auc, std_auc),\n",
    "        lw=2, alpha=.8)\n",
    "\n",
    "std_tpr = np.std(tprs, axis=0)\n",
    "tprs_upper = np.minimum(mean_tpr + std_tpr, 1)\n",
    "tprs_lower = np.maximum(mean_tpr - std_tpr, 0)\n",
    "ax.fill_between(mean_fpr, tprs_lower, tprs_upper, color='grey', alpha=.2,\n",
    "                label=r'$\\pm$ 1 std. dev.')\n",
    "\n",
    "ax.set(xlim=[-0.05, 1.05], ylim=[-0.05, 1.05],\n",
    "       title=\"Linear SVM ROC Curve\")\n",
    "ax.legend(loc=\"lower right\", fontsize = 'small')\n",
    "plt.show()"
   ]
  },
  {
   "cell_type": "code",
   "execution_count": null,
   "metadata": {},
   "outputs": [],
   "source": []
  }
 ],
 "metadata": {
  "kernelspec": {
   "display_name": "Python 3",
   "language": "python",
   "name": "python3"
  },
  "language_info": {
   "codemirror_mode": {
    "name": "ipython",
    "version": 3
   },
   "file_extension": ".py",
   "mimetype": "text/x-python",
   "name": "python",
   "nbconvert_exporter": "python",
   "pygments_lexer": "ipython3",
   "version": "3.8.6"
  }
 },
 "nbformat": 4,
 "nbformat_minor": 4
}
