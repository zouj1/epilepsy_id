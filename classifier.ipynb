{
 "cells": [
  {
   "cell_type": "code",
   "execution_count": 1,
   "metadata": {},
   "outputs": [],
   "source": [
    "import numpy as np\n",
    "import pandas as pd\n",
    "import os\n",
    "import random\n",
    "\n",
    "import seaborn as sns\n",
    "import matplotlib.pyplot as plt\n",
    "\n",
    "from scipy import signal\n",
    "from scipy.integrate import simps\n",
    "from scipy.stats import entropy\n",
    "from scipy.signal import periodogram, welch\n",
    "\n",
    "from sklearn import metrics\n",
    "from sklearn import svm\n",
    "\n",
    "from helper import get_paths, get_data, _embed"
   ]
  },
  {
   "cell_type": "markdown",
   "metadata": {},
   "source": [
    "SET A\tZ.zip \thealthy, eyes open \n",
    "\n",
    "SET B \tO.zip\thealthy, eyes closed\n",
    "\n",
    "SET C\tN.zip \tepileptic in the epileptogenic zone, during non-seizure time\n",
    "\n",
    "SET D\tF.zip  \tepileptic in hippocampus, during non-seizure time\n",
    "\n",
    "SET E\tS.zip \tepileptic, only contained seizure activity"
   ]
  },
  {
   "cell_type": "code",
   "execution_count": 2,
   "metadata": {},
   "outputs": [],
   "source": [
    "tempA = get_paths(\"data/Z/\")\n",
    "tempB = get_paths(\"data/O/\")\n",
    "tempC = get_paths(\"data/N/\")\n",
    "tempD = get_paths(\"data/F/\")\n",
    "tempE = get_paths(\"data/S/\")"
   ]
  },
  {
   "cell_type": "code",
   "execution_count": 3,
   "metadata": {},
   "outputs": [],
   "source": [
    "all_paths = tempA + tempB + tempC + tempD + tempE\n",
    "Y_data = np.array([0]*200+[1]*300)"
   ]
  },
  {
   "cell_type": "code",
   "execution_count": 4,
   "metadata": {},
   "outputs": [],
   "source": [
    "test_percent = 0.2\n",
    "test_n = int(Y_data.size*test_percent)\n",
    "\n",
    "test_i = random.sample(range(0, Y_data.size), test_n)\n",
    "train_i = [i for i in range(Y_data.size) if i not in test_i]"
   ]
  },
  {
   "cell_type": "code",
   "execution_count": 10,
   "metadata": {},
   "outputs": [],
   "source": [
    "paths_test = [all_paths[i] for i in test_i]\n",
    "paths_train = [all_paths[i] for i in train_i]"
   ]
  },
  {
   "cell_type": "code",
   "execution_count": 11,
   "metadata": {},
   "outputs": [],
   "source": [
    "test_features = get_features(paths_test)\n",
    "train_features = get_features(paths_train)"
   ]
  },
  {
   "cell_type": "code",
   "execution_count": 13,
   "metadata": {},
   "outputs": [],
   "source": [
    "Y_train = [Y_data[i] for i in train_i]\n",
    "Y_test = [Y_data[i] for i in test_i]"
   ]
  },
  {
   "cell_type": "code",
   "execution_count": 14,
   "metadata": {},
   "outputs": [],
   "source": [
    "#Create a svm Classifier\n",
    "clf = svm.SVC(kernel='linear') # Linear Kernel\n",
    "\n",
    "#Train the model using the training sets\n",
    "clf.fit(train_features, Y_train)\n",
    "\n",
    "#Predict the response for test dataset\n",
    "y_pred = clf.predict(test_features)"
   ]
  },
  {
   "cell_type": "code",
   "execution_count": 15,
   "metadata": {},
   "outputs": [
    {
     "name": "stdout",
     "output_type": "stream",
     "text": [
      "Accuracy: 0.97\n"
     ]
    }
   ],
   "source": [
    "print(\"Accuracy:\",metrics.accuracy_score(Y_test, y_pred))"
   ]
  },
  {
   "cell_type": "code",
   "execution_count": 16,
   "metadata": {},
   "outputs": [
    {
     "data": {
      "image/png": "[encoded data removed]",
      "text/plain": [
       "<Figure size 432x288 with 1 Axes>"
      ]
     },
     "metadata": {
      "needs_background": "light"
     },
     "output_type": "display_data"
    }
   ],
   "source": [
    "metrics.plot_roc_curve(clf, test_features, Y_test)\n",
    "plt.plot([0,1],[0,1], 'r:')\n",
    "plt.rcParams[\"font.family\"] = \"Times New Roman\"\n",
    "plt.rcParams.update({'font.size': 16})\n",
    "#plt.title(\"Linear SVM CLassifier Performance\")\n",
    "sns.despine()\n",
    "plt.show()\n"
   ]
  },
  {
   "cell_type": "code",
   "execution_count": null,
   "metadata": {},
   "outputs": [],
   "source": []
  },
  {
   "cell_type": "code",
   "execution_count": 9,
   "metadata": {},
   "outputs": [],
   "source": [
    "def shannon_entropy(x):\n",
    "    counts = x.value_counts()\n",
    "    she = entropy(counts, axis =0)\n",
    "    return she\n",
    "\n",
    "def spectral_entropy(x, sf, method='fft', nperseg=None, normalize=False):\n",
    "    x = np.array(x)\n",
    "    # Compute and normalize power spectrum\n",
    "    if method == 'fft':\n",
    "        _, psd = periodogram(x, sf)\n",
    "    elif method == 'welch':\n",
    "        _, psd = welch(x, sf, nperseg=nperseg)\n",
    "    psd_norm = np.divide(psd, psd.sum())\n",
    "    se = -np.multiply(psd_norm, np.log2(psd_norm)).sum()\n",
    "    if normalize:\n",
    "        se /= np.log2(psd_norm.size)\n",
    "    return se\n",
    "\n",
    "def rms(x):\n",
    "    rms_val = np.sqrt(np.mean(x**2))\n",
    "    return rms_val\n",
    "\n",
    "def var(x):\n",
    "    return np.var(x)\n",
    "\n",
    "def svd_entropy(x, order=3, delay=1, normalize=False):\n",
    "    x = np.array(x)\n",
    "    mat = _embed(x, order=order, delay=delay)\n",
    "    W = np.linalg.svd(mat, compute_uv=False)\n",
    "    # Normalize the singular values\n",
    "    W /= sum(W)\n",
    "    svd_e = -np.multiply(W, np.log2(W)).sum()\n",
    "    if normalize:\n",
    "        svd_e /= np.log2(order)\n",
    "    return svd_e\n",
    "\n",
    "def perm_entropy(x, order=3, delay=1, normalize=False):\n",
    "    x = np.array(x)\n",
    "    ran_order = range(order)\n",
    "    hashmult = np.power(order, ran_order)\n",
    "    # Embed x and sort the order of permutations\n",
    "    sorted_idx = _embed(x, order=order, delay=delay).argsort(kind='quicksort')\n",
    "    # Associate unique integer to each permutations\n",
    "    hashval = (np.multiply(sorted_idx, hashmult)).sum(1)\n",
    "    # Return the counts\n",
    "    _, c = np.unique(hashval, return_counts=True)\n",
    "    # Use np.true_divide for Python 2 compatibility\n",
    "    p = np.true_divide(c, c.sum())\n",
    "    pe = -np.multiply(p, np.log2(p)).sum()\n",
    "    if normalize:\n",
    "        pe /= np.log2(factorial(order))\n",
    "    return pe\n",
    "\n",
    "def delta_power(x, sf = 173.61, low = 0.5, high = 4):\n",
    "    data = x\n",
    "    win = 4 * sf\n",
    "    freqs, psd = signal.welch(data, sf, nperseg=win)\n",
    "\n",
    "    # Find intersecting values in frequency vector\n",
    "    idx_delta = np.logical_and(freqs >= low, freqs <= high)\n",
    "\n",
    "    # Frequency resolution\n",
    "    freq_res = freqs[1] - freqs[0]  # = 1 / 4 = 0.25\n",
    "\n",
    "    # Compute the absolute power by approximating the area under the curve\n",
    "    delta_power_val = simps(psd[idx_delta], dx=freq_res)\n",
    "    return delta_power_val\n",
    "\n",
    "def theta_power(x, sf = 173.61, low = 4.01, high = 8):\n",
    "    data = x\n",
    "    win = 4 * sf\n",
    "    freqs, psd = signal.welch(data, sf, nperseg=win)\n",
    "\n",
    "    # Find intersecting values in frequency vector\n",
    "    idx_delta = np.logical_and(freqs >= low, freqs <= high)\n",
    "\n",
    "    # Frequency resolution\n",
    "    freq_res = freqs[1] - freqs[0]  # = 1 / 4 = 0.25\n",
    "\n",
    "    # Compute the absolute power by approximating the area under the curve\n",
    "    delta_power_val = simps(psd[idx_delta], dx=freq_res)\n",
    "    return delta_power_val\n"
   ]
  },
  {
   "cell_type": "code",
   "execution_count": 8,
   "metadata": {},
   "outputs": [],
   "source": [
    "def get_features(paths):\n",
    "    vals = []\n",
    "    for file in paths:\n",
    "        with open(file) as f:\n",
    "            data_oi = [int(val) for val in f.read().splitlines()]\n",
    "            pd_series= pd.Series(data_oi)\n",
    "            she = shannon_entropy(pd_series)\n",
    "            se = spectral_entropy(pd_series, sf= 173.61)\n",
    "            #svde = svd_entropy(pd_series)\n",
    "            perme = perm_entropy(pd_series)\n",
    "            rms_val = rms(pd_series)\n",
    "            delta_power_val = delta_power(pd_series)\n",
    "            theta_power_val = theta_power(pd_series)\n",
    "            #var_val = var(pd_series)\n",
    "            vals.append([she, se, perme, delta_power_val, theta_power_val])\n",
    "    return np.array(vals)"
   ]
  },
  {
   "cell_type": "code",
   "execution_count": null,
   "metadata": {},
   "outputs": [],
   "source": []
  }
 ],
 "metadata": {
  "kernelspec": {
   "display_name": "Python 3",
   "language": "python",
   "name": "python3"
  },
  "language_info": {
   "codemirror_mode": {
    "name": "ipython",
    "version": 3
   },
   "file_extension": ".py",
   "mimetype": "text/x-python",
   "name": "python",
   "nbconvert_exporter": "python",
   "pygments_lexer": "ipython3",
   "version": "3.8.6"
  }
 },
 "nbformat": 4,
 "nbformat_minor": 4
}
